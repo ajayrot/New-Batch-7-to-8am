{
 "cells": [
  {
   "cell_type": "code",
   "execution_count": 1,
   "metadata": {},
   "outputs": [
    {
     "name": "stdout",
     "output_type": "stream",
     "text": [
      "Enter a number :10\n",
      "10 9 8 7 6 5 4 3 2 1 "
     ]
    }
   ],
   "source": [
    "#input :10\n",
    "# output: 10 9 8 7 6 5 4 3 2 1\n",
    "n = int(input(\"Enter a number :\"))\n",
    "i = 1\n",
    "while n >=i:\n",
    "    print(n,end = \" \")\n",
    "    n = n-1"
   ]
  },
  {
   "cell_type": "code",
   "execution_count": 1,
   "metadata": {},
   "outputs": [
    {
     "name": "stdout",
     "output_type": "stream",
     "text": [
      "324333\n",
      "totao count : 6\n"
     ]
    }
   ],
   "source": [
    "# Find total count of digits\n",
    "#input :35734\n",
    "#output: 5\n",
    "n = int(input())\n",
    "c = 0\n",
    "while n !=0:\n",
    "    n = n//10\n",
    "    c = c+1\n",
    "print(\"totao count :\",c)"
   ]
  },
  {
   "cell_type": "code",
   "execution_count": null,
   "metadata": {},
   "outputs": [],
   "source": []
  }
 ],
 "metadata": {
  "kernelspec": {
   "display_name": "Python 3",
   "language": "python",
   "name": "python3"
  },
  "language_info": {
   "codemirror_mode": {
    "name": "ipython",
    "version": 3
   },
   "file_extension": ".py",
   "mimetype": "text/x-python",
   "name": "python",
   "nbconvert_exporter": "python",
   "pygments_lexer": "ipython3",
   "version": "3.8.5"
  }
 },
 "nbformat": 4,
 "nbformat_minor": 4
}
