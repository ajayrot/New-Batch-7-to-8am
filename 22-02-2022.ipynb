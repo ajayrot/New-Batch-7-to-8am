{
 "cells": [
  {
   "cell_type": "markdown",
   "metadata": {},
   "source": [
    "# Looping statements:\n",
    "- while loop statement:\n",
    "  - It allows a programmer to repeat a single statement or a gruop of statements for true condition\n",
    "- for loop statement:\n",
    "  - It allows a programmer to execute a sequence of statementsseveral times."
   ]
  },
  {
   "cell_type": "markdown",
   "metadata": {},
   "source": [
    "# While Loop Statement:\n"
   ]
  },
  {
   "cell_type": "code",
   "execution_count": null,
   "metadata": {},
   "outputs": [],
   "source": [
    "# Syntax\n",
    "while Boolean_condition:\n",
    "    statement\n",
    "    increment/Decrement"
   ]
  },
  {
   "cell_type": "code",
   "execution_count": 1,
   "metadata": {},
   "outputs": [
    {
     "name": "stdout",
     "output_type": "stream",
     "text": [
      "Python\n",
      "Python\n",
      "Python\n",
      "Python\n",
      "Python\n"
     ]
    }
   ],
   "source": [
    "# print \"Python\" 5 times\n",
    "print(\"Python\")\n",
    "print(\"Python\")\n",
    "print(\"Python\")\n",
    "print(\"Python\")\n",
    "print(\"Python\")"
   ]
  },
  {
   "cell_type": "code",
   "execution_count": 2,
   "metadata": {},
   "outputs": [
    {
     "name": "stdout",
     "output_type": "stream",
     "text": [
      "Ajay\n",
      "Ajay\n",
      "Ajay\n",
      "Ajay\n",
      "Ajay\n"
     ]
    }
   ],
   "source": [
    "i = 0\n",
    "while i<5:\n",
    "    print(\"Ajay\")\n",
    "    i = i+1"
   ]
  },
  {
   "cell_type": "code",
   "execution_count": 3,
   "metadata": {},
   "outputs": [
    {
     "name": "stdout",
     "output_type": "stream",
     "text": [
      "Ajay\n",
      "Ajay\n",
      "Ajay\n",
      "Ajay\n",
      "Ajay\n",
      "Ajay\n",
      "Ajay\n",
      "Ajay\n",
      "Ajay\n",
      "Ajay\n"
     ]
    }
   ],
   "source": [
    "i = 0\n",
    "while i <10:\n",
    "    print(\"Ajay\")\n",
    "    i = i+1"
   ]
  },
  {
   "cell_type": "code",
   "execution_count": 5,
   "metadata": {},
   "outputs": [
    {
     "name": "stdout",
     "output_type": "stream",
     "text": [
      "1 2 3 4 5 6 7 8 9 10 "
     ]
    }
   ],
   "source": [
    "# 1 2 3 --- 10\n",
    "i = 1\n",
    "while i<=10:\n",
    "    print(i,end = \" \")\n",
    "    i =i+1\n",
    "    "
   ]
  },
  {
   "cell_type": "code",
   "execution_count": 14,
   "metadata": {},
   "outputs": [
    {
     "name": "stdout",
     "output_type": "stream",
     "text": [
      "0 2 4 6 8 10 "
     ]
    }
   ],
   "source": [
    "# print even numbers from 1 to 10\n",
    "i = 0\n",
    "while i <= 10:\n",
    "    \n",
    "    print(i,end=\" \")\n",
    "    i= i+2\n"
   ]
  },
  {
   "cell_type": "code",
   "execution_count": 17,
   "metadata": {},
   "outputs": [
    {
     "name": "stdout",
     "output_type": "stream",
     "text": [
      "Enter a number :6\n",
      "1 2 3 6 "
     ]
    }
   ],
   "source": [
    "# print the output as factors of given number\n",
    "# 6 - 1 2 3 6\n",
    "# 12 - 1 2 3 4 6 12\n",
    "n = int(input(\"Enter a number :\"))\n",
    "i = 1\n",
    "while i<=n:\n",
    "    if n%i ==0:\n",
    "        print(i,end = \" \")\n",
    "    i +=1"
   ]
  },
  {
   "cell_type": "code",
   "execution_count": 18,
   "metadata": {},
   "outputs": [
    {
     "name": "stdout",
     "output_type": "stream",
     "text": [
      "Enter a number :123\n",
      "3 2 1 "
     ]
    }
   ],
   "source": [
    "# input: 123\n",
    "# output :321\n",
    "n = int(input(\"Enter a number :\"))\n",
    "while n != 0:\n",
    "    print(n%10,end = \" \")\n",
    "    n = n//10"
   ]
  },
  {
   "cell_type": "code",
   "execution_count": null,
   "metadata": {},
   "outputs": [],
   "source": []
  }
 ],
 "metadata": {
  "kernelspec": {
   "display_name": "Python 3",
   "language": "python",
   "name": "python3"
  },
  "language_info": {
   "codemirror_mode": {
    "name": "ipython",
    "version": 3
   },
   "file_extension": ".py",
   "mimetype": "text/x-python",
   "name": "python",
   "nbconvert_exporter": "python",
   "pygments_lexer": "ipython3",
   "version": "3.8.5"
  }
 },
 "nbformat": 4,
 "nbformat_minor": 4
}
