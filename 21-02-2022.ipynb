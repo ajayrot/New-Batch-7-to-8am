{
 "cells": [
  {
   "cell_type": "markdown",
   "metadata": {},
   "source": [
    "# Control Flow Statements:\n",
    "- Conditional Statement\n",
    "  - if- else statement\n",
    "- Looping Statement\n",
    "  - For loop statement\n",
    "  - while loop statement"
   ]
  },
  {
   "cell_type": "code",
   "execution_count": null,
   "metadata": {},
   "outputs": [],
   "source": [
    "# if - else statement\n",
    "# syntax\n",
    "if Booelan_Statement:\n",
    "    statement\n",
    "else:\n",
    "    statement"
   ]
  },
  {
   "cell_type": "code",
   "execution_count": 3,
   "metadata": {},
   "outputs": [
    {
     "name": "stdout",
     "output_type": "stream",
     "text": [
      "enter a number :4\n",
      "4 is Even Number\n"
     ]
    }
   ],
   "source": [
    "# Check given number is even number or odd\n",
    "a = int(input(\"enter a number :\"))\n",
    "if a %2 ==0:\n",
    "    print(a,\"is Even Number\")\n",
    "else:\n",
    "    print(a,\"is odd number\")"
   ]
  },
  {
   "cell_type": "code",
   "execution_count": 5,
   "metadata": {},
   "outputs": [
    {
     "name": "stdout",
     "output_type": "stream",
     "text": [
      "Enter a number64\n",
      "No\n"
     ]
    }
   ],
   "source": [
    "#check given is multiples of both 3 and 5\n",
    "n = int(input(\"Enter a number\"))\n",
    "if n % 3==0 and n %5==0:\n",
    "    print(\"Yes\")\n",
    "else:\n",
    "    print(\"No\")\n",
    "    "
   ]
  },
  {
   "cell_type": "code",
   "execution_count": 12,
   "metadata": {},
   "outputs": [
    {
     "name": "stdout",
     "output_type": "stream",
     "text": [
      "Enter a number : 0\n",
      "0 is Zero\n"
     ]
    }
   ],
   "source": [
    "#Check Given is number positive,negative or zero\n",
    "# +ve - n>0\n",
    "# -ve - n<0\n",
    "# 0 - n= 0\n",
    "n = int(input(\"Enter a number : \"))\n",
    "if n>0:\n",
    "    print(n,\"is positive number\")\n",
    "elif n<0:\n",
    "    print(n,\"is Negative Number\")\n",
    "else :\n",
    "    print(n,\"is Zero\")\n",
    "    "
   ]
  },
  {
   "cell_type": "code",
   "execution_count": 13,
   "metadata": {},
   "outputs": [
    {
     "name": "stdout",
     "output_type": "stream",
     "text": [
      "Enter a number  :4\n",
      "Enter a number1\n",
      "entre a number9\n",
      "9 is large number\n"
     ]
    }
   ],
   "source": [
    "# find large number \n",
    "# a b c\n",
    "# a>b and a >c\n",
    "# b>a and b>a\n",
    "# c>a and c>b\n",
    "a = int(input(\"Enter a number  :\"))\n",
    "b= int(input(\"Enter a number\"))\n",
    "c = int(input(\"entre a number\"))\n",
    "if a>b and a>c:\n",
    "    print(a,\"is large number\")\n",
    "elif b>a and b>c:\n",
    "    print(b,\"is large number\")\n",
    "else:\n",
    "    print(c,\"is large number\")"
   ]
  },
  {
   "cell_type": "code",
   "execution_count": 17,
   "metadata": {},
   "outputs": [
    {
     "name": "stdout",
     "output_type": "stream",
     "text": [
      "Enter a number :24\n",
      "F\n"
     ]
    }
   ],
   "source": [
    "# find grading \n",
    "# Above 80 - A\n",
    "# 60 to 80 - B\n",
    "# 50 to 60 - C\n",
    "# 45 to 50 - D\n",
    "# 25 to 45 - E\n",
    "# Below 25 - F\n",
    "marks = int(input(\"Enter a number :\"))\n",
    "if marks >80:\n",
    "    print(\"A\")\n",
    "elif marks >= 60 and marks <80:\n",
    "    print(\"B\")\n",
    "elif marks >= 50 and marks <60:\n",
    "    print(\"C\")\n",
    "elif marks >= 45 and marks <50:\n",
    "    print(\"D\")\n",
    "elif marks >=25 and marks <45:\n",
    "    print(\"E\")\n",
    "else:\n",
    "    print(\"F\")\n",
    "    "
   ]
  },
  {
   "cell_type": "code",
   "execution_count": null,
   "metadata": {},
   "outputs": [],
   "source": []
  }
 ],
 "metadata": {
  "kernelspec": {
   "display_name": "Python 3",
   "language": "python",
   "name": "python3"
  },
  "language_info": {
   "codemirror_mode": {
    "name": "ipython",
    "version": 3
   },
   "file_extension": ".py",
   "mimetype": "text/x-python",
   "name": "python",
   "nbconvert_exporter": "python",
   "pygments_lexer": "ipython3",
   "version": "3.8.5"
  }
 },
 "nbformat": 4,
 "nbformat_minor": 4
}
